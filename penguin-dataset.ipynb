from PIL import Image
img = Image.open('penguin.png')
img
